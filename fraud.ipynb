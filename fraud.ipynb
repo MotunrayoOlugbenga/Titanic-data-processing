{
 "cells": [
  {
   "cell_type": "markdown",
   "metadata": {},
   "source": [
    "### Importing modules"
   ]
  },
  {
   "cell_type": "code",
   "execution_count": 6,
   "metadata": {},
   "outputs": [],
   "source": [
    "import pickle\n",
    "import pandas as pd\n",
    "import numpy as np\n",
    "import matplotlib.pyplot as plt\n",
    "import seaborn as sns\n",
    "import warnings\n",
    "warnings.filterwarnings('ignore')\n",
    "from sklearn.model_selection import train_test_split\n",
    "from sklearn.ensemble import GradientBoostingClassifier\n",
    "from sklearn.metrics import roc_auc_score, confusion_matrix"
   ]
  },
  {
   "cell_type": "markdown",
   "metadata": {},
   "source": [
    "#### Data preprocessing"
   ]
  },
  {
   "cell_type": "code",
   "execution_count": 2,
   "metadata": {},
   "outputs": [],
   "source": [
    "train=pd.read_csv('train.csv ')"
   ]
  },
  {
   "cell_type": "code",
   "execution_count": 3,
   "metadata": {},
   "outputs": [
    {
     "data": {
      "text/html": [
       "<div>\n",
       "<style scoped>\n",
       "    .dataframe tbody tr th:only-of-type {\n",
       "        vertical-align: middle;\n",
       "    }\n",
       "\n",
       "    .dataframe tbody tr th {\n",
       "        vertical-align: top;\n",
       "    }\n",
       "\n",
       "    .dataframe thead th {\n",
       "        text-align: right;\n",
       "    }\n",
       "</style>\n",
       "<table border=\"1\" class=\"dataframe\">\n",
       "  <thead>\n",
       "    <tr style=\"text-align: right;\">\n",
       "      <th></th>\n",
       "      <th>id</th>\n",
       "      <th>transaction time</th>\n",
       "      <th>current bank amount</th>\n",
       "      <th>last bank amount</th>\n",
       "      <th>time taken (seconds)</th>\n",
       "      <th>most recent bank amount</th>\n",
       "      <th>account type</th>\n",
       "      <th>marital_status</th>\n",
       "      <th>age</th>\n",
       "      <th>occupation</th>\n",
       "      <th>credit card type</th>\n",
       "      <th>account source verification</th>\n",
       "      <th>transaction source method</th>\n",
       "      <th>account destination verification</th>\n",
       "      <th>fradulent</th>\n",
       "    </tr>\n",
       "  </thead>\n",
       "  <tbody>\n",
       "    <tr>\n",
       "      <td>0</td>\n",
       "      <td>acus0</td>\n",
       "      <td>2016-10-05T01:44:58</td>\n",
       "      <td>43671</td>\n",
       "      <td>1151263</td>\n",
       "      <td>2299</td>\n",
       "      <td>348764</td>\n",
       "      <td>saving</td>\n",
       "      <td>married</td>\n",
       "      <td>46</td>\n",
       "      <td>musician</td>\n",
       "      <td>master</td>\n",
       "      <td>True</td>\n",
       "      <td>False</td>\n",
       "      <td>True</td>\n",
       "      <td>0</td>\n",
       "    </tr>\n",
       "    <tr>\n",
       "      <td>1</td>\n",
       "      <td>acus1</td>\n",
       "      <td>2015-01-14T15:05:07</td>\n",
       "      <td>7442</td>\n",
       "      <td>1062843</td>\n",
       "      <td>4553</td>\n",
       "      <td>225114</td>\n",
       "      <td>current</td>\n",
       "      <td>single</td>\n",
       "      <td>64</td>\n",
       "      <td>accounting</td>\n",
       "      <td>master</td>\n",
       "      <td>True</td>\n",
       "      <td>False</td>\n",
       "      <td>False</td>\n",
       "      <td>0</td>\n",
       "    </tr>\n",
       "    <tr>\n",
       "      <td>2</td>\n",
       "      <td>acus2</td>\n",
       "      <td>2016-10-28T13:44:58</td>\n",
       "      <td>40102</td>\n",
       "      <td>48042</td>\n",
       "      <td>1493</td>\n",
       "      <td>420486</td>\n",
       "      <td>current</td>\n",
       "      <td>married</td>\n",
       "      <td>41</td>\n",
       "      <td>farmer</td>\n",
       "      <td>master</td>\n",
       "      <td>True</td>\n",
       "      <td>True</td>\n",
       "      <td>True</td>\n",
       "      <td>0</td>\n",
       "    </tr>\n",
       "    <tr>\n",
       "      <td>3</td>\n",
       "      <td>acus3</td>\n",
       "      <td>2016-11-20T15:05:32</td>\n",
       "      <td>61024</td>\n",
       "      <td>1441746</td>\n",
       "      <td>544</td>\n",
       "      <td>239663</td>\n",
       "      <td>current</td>\n",
       "      <td>unknown</td>\n",
       "      <td>66</td>\n",
       "      <td>clergy</td>\n",
       "      <td>master</td>\n",
       "      <td>True</td>\n",
       "      <td>True</td>\n",
       "      <td>True</td>\n",
       "      <td>0</td>\n",
       "    </tr>\n",
       "    <tr>\n",
       "      <td>4</td>\n",
       "      <td>acus4</td>\n",
       "      <td>2015-09-01T16:11:57</td>\n",
       "      <td>22867</td>\n",
       "      <td>510656</td>\n",
       "      <td>4581</td>\n",
       "      <td>432337</td>\n",
       "      <td>current</td>\n",
       "      <td>married</td>\n",
       "      <td>78</td>\n",
       "      <td>accounting</td>\n",
       "      <td>verve</td>\n",
       "      <td>False</td>\n",
       "      <td>False</td>\n",
       "      <td>True</td>\n",
       "      <td>1</td>\n",
       "    </tr>\n",
       "  </tbody>\n",
       "</table>\n",
       "</div>"
      ],
      "text/plain": [
       "      id     transaction time  current bank amount  last bank amount  \\\n",
       "0  acus0  2016-10-05T01:44:58                43671           1151263   \n",
       "1  acus1  2015-01-14T15:05:07                 7442           1062843   \n",
       "2  acus2  2016-10-28T13:44:58                40102             48042   \n",
       "3  acus3  2016-11-20T15:05:32                61024           1441746   \n",
       "4  acus4  2015-09-01T16:11:57                22867            510656   \n",
       "\n",
       "   time taken (seconds)  most recent bank amount account type marital_status  \\\n",
       "0                  2299                   348764       saving        married   \n",
       "1                  4553                   225114      current         single   \n",
       "2                  1493                   420486      current        married   \n",
       "3                   544                   239663      current        unknown   \n",
       "4                  4581                   432337      current        married   \n",
       "\n",
       "   age  occupation credit card type  account source verification  \\\n",
       "0   46    musician           master                         True   \n",
       "1   64  accounting           master                         True   \n",
       "2   41      farmer           master                         True   \n",
       "3   66      clergy           master                         True   \n",
       "4   78  accounting            verve                        False   \n",
       "\n",
       "   transaction source method  account destination verification  fradulent  \n",
       "0                      False                              True          0  \n",
       "1                      False                             False          0  \n",
       "2                       True                              True          0  \n",
       "3                       True                              True          0  \n",
       "4                      False                              True          1  "
      ]
     },
     "execution_count": 3,
     "metadata": {},
     "output_type": "execute_result"
    }
   ],
   "source": [
    "train.head()"
   ]
  },
  {
   "cell_type": "code",
   "execution_count": 4,
   "metadata": {},
   "outputs": [],
   "source": [
    "null_column=train.isnull().sum()"
   ]
  },
  {
   "cell_type": "code",
   "execution_count": 5,
   "metadata": {},
   "outputs": [
    {
     "data": {
      "text/plain": [
       "id                                  0\n",
       "transaction time                    0\n",
       "current bank amount                 0\n",
       "last bank amount                    0\n",
       "time taken (seconds)                0\n",
       "most recent bank amount             0\n",
       "account type                        0\n",
       "marital_status                      0\n",
       "age                                 0\n",
       "occupation                          0\n",
       "credit card type                    0\n",
       "account source verification         0\n",
       "transaction source method           0\n",
       "account destination verification    0\n",
       "fradulent                           0\n",
       "dtype: int64"
      ]
     },
     "execution_count": 5,
     "metadata": {},
     "output_type": "execute_result"
    }
   ],
   "source": [
    "print(null_column)"
   ]
  },
  {
   "cell_type": "code",
   "execution_count": null,
   "metadata": {},
   "outputs": [],
   "source": []
  },
  {
   "cell_type": "code",
   "execution_count": 7,
   "metadata": {},
   "outputs": [
    {
     "data": {
      "image/png": "[encoded data removed]",
      "text/plain": [
       "<Figure size 432x288 with 1 Axes>"
      ]
     },
     "metadata": {
      "needs_background": "light"
     },
     "output_type": "display_data"
    }
   ],
   "source": [
    "sns.countplot(train['fradulent'])\n",
    "plt.title('A plot of transaction')\n",
    "plt.xlabel('target')\n",
    "plt.ylabel('number of cases')\n",
    "plt.show()"
   ]
  },
  {
   "cell_type": "code",
   "execution_count": 11,
   "metadata": {},
   "outputs": [],
   "source": [
    "train['hour']=train['transaction time'].str.split('T',expand=True)[1].str.split(':',expand=True)[0]\n",
    "train['year']=train['transaction time'].str.split('-',expand=True)[0]"
   ]
  },
  {
   "cell_type": "code",
   "execution_count": 13,
   "metadata": {},
   "outputs": [
    {
     "data": {
      "text/plain": [
       "current    8984\n",
       "saving     1509\n",
       "Name: account type, dtype: int64"
      ]
     },
     "execution_count": 13,
     "metadata": {},
     "output_type": "execute_result"
    }
   ],
   "source": [
    "train['account type'].value_counts(ascending=False)"
   ]
  },
  {
   "cell_type": "code",
   "execution_count": 14,
   "metadata": {},
   "outputs": [],
   "source": [
    "encode={'account type':{'saving':0,'current':1},\n",
    "        \n",
    "       'credit card type':{'master':0,'verve':1},\n",
    "        \n",
    "       'occupation':{'clergy':0,'accounting':1,'lecturer':2,'banking':3,\n",
    "                     'doctor':4,'farmer':5,'lawyer':6, 'musician':7},\n",
    "        \n",
    "        'marital_status':{'married':0,'single':1,'unknown':2},\n",
    "        \n",
    "        'year':{'2014':0,'2015':1,'2016':2,'2017':3}\n",
    "       \n",
    "       }"
   ]
  },
  {
   "cell_type": "code",
   "execution_count": 15,
   "metadata": {},
   "outputs": [],
   "source": [
    "train=train.replace(encode)"
   ]
  },
  {
   "cell_type": "code",
   "execution_count": 16,
   "metadata": {},
   "outputs": [],
   "source": [
    "train.set_index(['id'],inplace=True,drop=True)\n",
    "train.drop(['transaction time'],axis=1,inplace=True)"
   ]
  },
  {
   "cell_type": "code",
   "execution_count": 17,
   "metadata": {},
   "outputs": [],
   "source": [
    "X=train.drop(['fradulent'],axis=1)\n",
    "y=train['fradulent']"
   ]
  },
  {
   "cell_type": "code",
   "execution_count": null,
   "metadata": {},
   "outputs": [],
   "source": []
  },
  {
   "cell_type": "markdown",
   "metadata": {},
   "source": [
    "### Modeling"
   ]
  },
  {
   "cell_type": "code",
   "execution_count": 18,
   "metadata": {},
   "outputs": [],
   "source": [
    "from sklearn.preprocessing import StandardScaler\n",
    "std= StandardScaler()\n",
    "X=std.fit_transform(X)"
   ]
  },
  {
   "cell_type": "code",
   "execution_count": 19,
   "metadata": {},
   "outputs": [],
   "source": [
    "x_train,x_test,y_train,y_test=train_test_split(X,y,test_size=0.2,random_state=0)"
   ]
  },
  {
   "cell_type": "code",
   "execution_count": 21,
   "metadata": {},
   "outputs": [
    {
     "data": {
      "text/plain": [
       "GradientBoostingClassifier(random_state=0)"
      ]
     },
     "execution_count": 21,
     "metadata": {},
     "output_type": "execute_result"
    }
   ],
   "source": [
    "gb=GradientBoostingClassifier(random_state=0,learning_rate=0.1)\n",
    "gb.fit(x_train,y_train)"
   ]
  },
  {
   "cell_type": "code",
   "execution_count": null,
   "metadata": {},
   "outputs": [],
   "source": []
  },
  {
   "cell_type": "code",
   "execution_count": 22,
   "metadata": {},
   "outputs": [
    {
     "data": {
      "text/plain": [
       "GradientBoostingClassifier(n_estimators=1000)"
      ]
     },
     "execution_count": 22,
     "metadata": {},
     "output_type": "execute_result"
    }
   ],
   "source": [
    "params = {'n_estimators': 1000,\n",
    "          'max_depth': 3,\n",
    "        \n",
    "         'learning_rate':0.1,\n",
    "         }\n",
    "\n",
    "gb=GradientBoostingClassifier(**params)\n",
    "gb.fit(x_train,y_train)"
   ]
  },
  {
   "cell_type": "code",
   "execution_count": null,
   "metadata": {},
   "outputs": [],
   "source": []
  },
  {
   "cell_type": "markdown",
   "metadata": {},
   "source": [
    "### Prediction"
   ]
  },
  {
   "cell_type": "code",
   "execution_count": 23,
   "metadata": {},
   "outputs": [],
   "source": [
    "y_pred=gb.predict(x_test)"
   ]
  },
  {
   "cell_type": "code",
   "execution_count": 24,
   "metadata": {},
   "outputs": [
    {
     "data": {
      "text/plain": [
       "0.9460328806290207"
      ]
     },
     "execution_count": 24,
     "metadata": {},
     "output_type": "execute_result"
    }
   ],
   "source": [
    "gb.score(x_train,y_train)"
   ]
  },
  {
   "cell_type": "code",
   "execution_count": 25,
   "metadata": {},
   "outputs": [
    {
     "data": {
      "text/plain": [
       "array([[1240,  292],\n",
       "       [ 331,  236]], dtype=int64)"
      ]
     },
     "execution_count": 25,
     "metadata": {},
     "output_type": "execute_result"
    }
   ],
   "source": [
    "confusion_matrix(y_test,y_pred)"
   ]
  },
  {
   "cell_type": "code",
   "execution_count": 26,
   "metadata": {},
   "outputs": [],
   "source": [
    "roc_auc=roc_auc_score(y_test,y_pred)"
   ]
  },
  {
   "cell_type": "code",
   "execution_count": 27,
   "metadata": {},
   "outputs": [
    {
     "data": {
      "text/plain": [
       "0.6128126136829357"
      ]
     },
     "execution_count": 27,
     "metadata": {},
     "output_type": "execute_result"
    }
   ],
   "source": [
    "print(roc_auc)"
   ]
  },
  {
   "cell_type": "code",
   "execution_count": 32,
   "metadata": {},
   "outputs": [],
   "source": [
    "def to_labels(pos_probs,threshold):\n",
    "    return (pos_probs >=threshold).astype('int')"
   ]
  },
  {
   "cell_type": "code",
   "execution_count": 31,
   "metadata": {},
   "outputs": [],
   "source": [
    "def thresh(probs,threshold):    \n",
    "    probs[probs>threshold]=1\n",
    "    probs[probs<=threshold]=0\n",
    "    return (probs)"
   ]
  },
  {
   "cell_type": "code",
   "execution_count": 37,
   "metadata": {},
   "outputs": [],
   "source": [
    "def threshold(model,pred):\n",
    "    probs=model.predict_proba(pred)[:,1]\n",
    "    threshold=np.arange(0,1,0.0001)\n",
    "    scores=[roc_auc_score(y_test,to_labels(probs,t))for t in threshold]\n",
    "    ix=np.argmax(scores)\n",
    "    print('roc_auc-score=%.5f'%(scores[ix]))\n",
    "    return (threshold[ix])"
   ]
  },
  {
   "cell_type": "code",
   "execution_count": 38,
   "metadata": {},
   "outputs": [
    {
     "name": "stdout",
     "output_type": "stream",
     "text": [
      "roc_auc-score=0.79357\n"
     ]
    }
   ],
   "source": [
    "model_threshold=threshold(gb,x_test)"
   ]
  },
  {
   "cell_type": "code",
   "execution_count": null,
   "metadata": {},
   "outputs": [],
   "source": []
  },
  {
   "cell_type": "markdown",
   "metadata": {},
   "source": [
    "#### Saving model"
   ]
  },
  {
   "cell_type": "code",
   "execution_count": 28,
   "metadata": {},
   "outputs": [],
   "source": [
    "with open('pred','wb') as file:\n",
    "    pickle.dump(gb,file)"
   ]
  },
  {
   "cell_type": "code",
   "execution_count": null,
   "metadata": {},
   "outputs": [],
   "source": []
  },
  {
   "cell_type": "code",
   "execution_count": null,
   "metadata": {},
   "outputs": [],
   "source": []
  },
  {
   "cell_type": "code",
   "execution_count": null,
   "metadata": {},
   "outputs": [],
   "source": []
  }
 ],
 "metadata": {
  "kernelspec": {
   "display_name": "Python 3",
   "language": "python",
   "name": "python3"
  },
  "language_info": {
   "codemirror_mode": {
    "name": "ipython",
    "version": 3
   },
   "file_extension": ".py",
   "mimetype": "text/x-python",
   "name": "python",
   "nbconvert_exporter": "python",
   "pygments_lexer": "ipython3",
   "version": "3.7.4"
  }
 },
 "nbformat": 4,
 "nbformat_minor": 2
}
